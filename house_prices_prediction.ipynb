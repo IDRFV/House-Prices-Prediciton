{
 "cells": [
  {
   "cell_type": "code",
   "execution_count": 1,
   "id": "9e42225c",
   "metadata": {
    "_cell_guid": "b1076dfc-b9ad-4769-8c92-a6c4dae69d19",
    "_uuid": "8f2839f25d086af736a60e9eeb907d3b93b6e0e5",
    "execution": {
     "iopub.execute_input": "2024-10-24T16:46:22.926759Z",
     "iopub.status.busy": "2024-10-24T16:46:22.926308Z",
     "iopub.status.idle": "2024-10-24T16:46:25.736266Z",
     "shell.execute_reply": "2024-10-24T16:46:25.735117Z"
    },
    "papermill": {
     "duration": 2.818701,
     "end_time": "2024-10-24T16:46:25.739170",
     "exception": false,
     "start_time": "2024-10-24T16:46:22.920469",
     "status": "completed"
    },
    "tags": []
   },
   "outputs": [
    {
     "name": "stdout",
     "output_type": "stream",
     "text": [
      "/kaggle/input/house-prices-advanced-regression-techniques/sample_submission.csv\n",
      "/kaggle/input/house-prices-advanced-regression-techniques/data_description.txt\n",
      "/kaggle/input/house-prices-advanced-regression-techniques/train.csv\n",
      "/kaggle/input/house-prices-advanced-regression-techniques/test.csv\n"
     ]
    }
   ],
   "source": [
    "# This Python 3 environment comes with many helpful analytics libraries installed\n",
    "# It is defined by the kaggle/python Docker image: https://github.com/kaggle/docker-python\n",
    "# For example, here's several helpful packages to load\n",
    "\n",
    "import numpy as np # linear algebra\n",
    "import pandas as pd # data processing, CSV file I/O (e.g. pd.read_csv)\n",
    "import matplotlib.pyplot as plt\n",
    "import seaborn as sns\n",
    "\n",
    "# Input data files are available in the read-only \"../input/\" directory\n",
    "# For example, running this (by clicking run or pressing Shift+Enter) will list all files under the input directory\n",
    "\n",
    "import os\n",
    "for dirname, _, filenames in os.walk('/kaggle/input'):\n",
    "    for filename in filenames:\n",
    "        print(os.path.join(dirname, filename))\n",
    "\n",
    "# You can write up to 20GB to the current directory (/kaggle/working/) that gets preserved as output when you create a version using \"Save & Run All\" \n",
    "# You can also write temporary files to /kaggle/temp/, but they won't be saved outside of the current session"
   ]
  },
  {
   "cell_type": "code",
   "execution_count": 2,
   "id": "4161b3f8",
   "metadata": {
    "execution": {
     "iopub.execute_input": "2024-10-24T16:46:25.749517Z",
     "iopub.status.busy": "2024-10-24T16:46:25.748442Z",
     "iopub.status.idle": "2024-10-24T16:46:25.823987Z",
     "shell.execute_reply": "2024-10-24T16:46:25.823014Z"
    },
    "papermill": {
     "duration": 0.083481,
     "end_time": "2024-10-24T16:46:25.826801",
     "exception": false,
     "start_time": "2024-10-24T16:46:25.743320",
     "status": "completed"
    },
    "tags": []
   },
   "outputs": [],
   "source": [
    "train_data = pd.read_csv('/kaggle/input/house-prices-advanced-regression-techniques/train.csv')\n",
    "test_data = pd.read_csv('/kaggle/input/house-prices-advanced-regression-techniques/test.csv')\n",
    "\n",
    "import pandas as pd\n",
    "import numpy as np\n"
   ]
  },
  {
   "cell_type": "code",
   "execution_count": 3,
   "id": "1c4093f9",
   "metadata": {
    "execution": {
     "iopub.execute_input": "2024-10-24T16:46:25.836785Z",
     "iopub.status.busy": "2024-10-24T16:46:25.836408Z",
     "iopub.status.idle": "2024-10-24T16:46:25.865525Z",
     "shell.execute_reply": "2024-10-24T16:46:25.864242Z"
    },
    "papermill": {
     "duration": 0.037069,
     "end_time": "2024-10-24T16:46:25.868126",
     "exception": false,
     "start_time": "2024-10-24T16:46:25.831057",
     "status": "completed"
    },
    "tags": []
   },
   "outputs": [],
   "source": [
    "# Define the threshold for removal\n",
    "threshold = 0.7  # 70%\n",
    "\n",
    "# Calculate the percentage of missing values for each column\n",
    "missing_percentage_train = train_data.isnull().mean()\n",
    "missing_percentage_test = test_data.isnull().mean()\n",
    "\n",
    "# Drop columns with missing percentage greater than the threshold\n",
    "columns_to_remove_train = missing_percentage_train[missing_percentage_train > threshold].index\n",
    "columns_to_remove_test = missing_percentage_test[missing_percentage_test > threshold].index\n",
    "train_data = train_data.drop(columns=columns_to_remove_train)\n",
    "test_data = test_data.drop(columns=columns_to_remove_test)"
   ]
  },
  {
   "cell_type": "code",
   "execution_count": 4,
   "id": "3ddbdf63",
   "metadata": {
    "execution": {
     "iopub.execute_input": "2024-10-24T16:46:25.877531Z",
     "iopub.status.busy": "2024-10-24T16:46:25.877123Z",
     "iopub.status.idle": "2024-10-24T16:46:26.494361Z",
     "shell.execute_reply": "2024-10-24T16:46:26.493049Z"
    },
    "papermill": {
     "duration": 0.625201,
     "end_time": "2024-10-24T16:46:26.497116",
     "exception": false,
     "start_time": "2024-10-24T16:46:25.871915",
     "status": "completed"
    },
    "tags": []
   },
   "outputs": [],
   "source": [
    "# Data Cleaning and Preprocessing\n",
    "train_data[\"SalePrice\"] = np.log1p(train_data[\"SalePrice\"])  # Apply log transformation to SalePrice\n",
    "\n",
    "from sklearn.impute import SimpleImputer\n",
    "\n",
    "# define imouter for numerical features\n",
    "num_imputer = SimpleImputer(strategy='median')\n",
    "\n",
    "# Impute missing values for numerical columns\n",
    "train_data['LotFrontage'] = num_imputer.fit_transform(train_data[['LotFrontage']]).ravel()\n",
    "train_data['GarageYrBlt'] = num_imputer.fit_transform(train_data[['GarageYrBlt']]).ravel()\n",
    "test_data['LotFrontage'] = num_imputer.fit_transform(test_data[['LotFrontage']]).ravel()\n",
    "test_data['GarageYrBlt'] = num_imputer.fit_transform(test_data[['GarageYrBlt']]).ravel()\n",
    "\n",
    "# Impute MasVnrArea with 0\n",
    "train_data['MasVnrArea'] = train_data['MasVnrArea'].fillna(0)\n",
    "test_data['MasVnrArea'] = test_data['MasVnrArea'].fillna(0)\n",
    "\n",
    "# Define imputer for categorical features\n",
    "cat_imputer = SimpleImputer(strategy='most_frequent')\n",
    "cat_imputer = SimpleImputer(strategy='most_frequent')\n",
    "\n",
    "# Impute missing values for categorical columns and directly assign to the DataFrame\n",
    "train_data['MasVnrType'] = cat_imputer.fit_transform(train_data[['MasVnrType']]).ravel()\n",
    "train_data['BsmtQual'] = cat_imputer.fit_transform(train_data[['BsmtQual']]).ravel()\n",
    "train_data['BsmtCond'] = cat_imputer.fit_transform(train_data[['BsmtCond']]).ravel()\n",
    "train_data['BsmtExposure'] = cat_imputer.fit_transform(train_data[['BsmtExposure']]).ravel()\n",
    "train_data['BsmtFinType1'] = cat_imputer.fit_transform(train_data[['BsmtFinType1']]).ravel()\n",
    "train_data['BsmtFinType2'] = cat_imputer.fit_transform(train_data[['BsmtFinType2']]).ravel()\n",
    "train_data['Electrical'] = cat_imputer.fit_transform(train_data[['Electrical']]).ravel()\n",
    "train_data['FireplaceQu'] = cat_imputer.fit_transform(train_data[['FireplaceQu']]).ravel()\n",
    "train_data['GarageType'] = cat_imputer.fit_transform(train_data[['GarageType']]).ravel()\n",
    "train_data['GarageFinish'] = cat_imputer.fit_transform(train_data[['GarageFinish']]).ravel()\n",
    "train_data['GarageQual'] = cat_imputer.fit_transform(train_data[['GarageQual']]).ravel()\n",
    "train_data['GarageCond'] = cat_imputer.fit_transform(train_data[['GarageCond']]).ravel()\n",
    "\n",
    "\n",
    "test_data['MasVnrType'] = cat_imputer.fit_transform(test_data[['MasVnrType']]).ravel()\n",
    "test_data['BsmtQual'] = cat_imputer.fit_transform(test_data[['BsmtQual']]).ravel()\n",
    "test_data['BsmtCond'] = cat_imputer.fit_transform(test_data[['BsmtCond']]).ravel()\n",
    "test_data['BsmtExposure'] = cat_imputer.fit_transform(test_data[['BsmtExposure']]).ravel()\n",
    "test_data['BsmtFinType1'] = cat_imputer.fit_transform(test_data[['BsmtFinType1']]).ravel()\n",
    "test_data['BsmtFinType2'] = cat_imputer.fit_transform(test_data[['BsmtFinType2']]).ravel()\n",
    "test_data['Electrical'] = cat_imputer.fit_transform(test_data[['Electrical']]).ravel()\n",
    "test_data['FireplaceQu'] = cat_imputer.fit_transform(test_data[['FireplaceQu']]).ravel()\n",
    "test_data['GarageType'] = cat_imputer.fit_transform(test_data[['GarageType']]).ravel()\n",
    "test_data['GarageFinish'] = cat_imputer.fit_transform(test_data[['GarageFinish']]).ravel()\n",
    "test_data['GarageQual'] = cat_imputer.fit_transform(test_data[['GarageQual']]).ravel()\n",
    "test_data['GarageCond'] = cat_imputer.fit_transform(test_data[['GarageCond']]).ravel()"
   ]
  },
  {
   "cell_type": "code",
   "execution_count": 5,
   "id": "ec8e2932",
   "metadata": {
    "execution": {
     "iopub.execute_input": "2024-10-24T16:46:26.506677Z",
     "iopub.status.busy": "2024-10-24T16:46:26.506227Z",
     "iopub.status.idle": "2024-10-24T16:46:26.540229Z",
     "shell.execute_reply": "2024-10-24T16:46:26.539039Z"
    },
    "papermill": {
     "duration": 0.041975,
     "end_time": "2024-10-24T16:46:26.542923",
     "exception": false,
     "start_time": "2024-10-24T16:46:26.500948",
     "status": "completed"
    },
    "tags": []
   },
   "outputs": [],
   "source": [
    "# new features engeneering train_data\n",
    "\n",
    "# Total Square Footage to capture the overall livable space in the property\n",
    "train_data['TotalSF'] = train_data['TotalBsmtSF'] + train_data['1stFlrSF'] + train_data['2ndFlrSF'] + train_data['GrLivArea']\n",
    "\n",
    "# Age of the Property helps to capture the effect of older vs.newer properties on sale prices\n",
    "train_data['HouseAge'] = train_data['YrSold'] - train_data['YearBuilt']\n",
    "\n",
    "# Time Since Last Renovation\n",
    "train_data['TimeSinceRemodel'] = train_data['YrSold'] - train_data['YearRemodAdd']\n",
    "\n",
    "# Is Remodeled: binary feature indicates whether a home has undergone any renovations: IsRemodeled = 1 if YearBuilt != YearRemodAdd else 0\n",
    "train_data['IsRemodeled'] = (train_data['YearBuilt'] != train_data['YearRemodAdd']).astype(int)\n",
    "\n",
    "# Total Bathrooms\n",
    "train_data['Total Bathrooms'] = train_data['FullBath'] + (train_data['HalfBath']*0.5) + train_data['BsmtFullBath'] + (train_data['BsmtHalfBath']*0.5)\n",
    "\n",
    "# Has Basement\n",
    "train_data['HasBasement'] = (train_data['TotalBsmtSF'] > 0).astype(int)\n",
    "\n",
    "# Lot Frontage/Area Ratio: to see if the frontage size relative to the lot area has an effect on the house price\n",
    "train_data['LotFrontageAreaRatio'] = train_data['LotFrontage'] / train_data['LotArea']\n",
    "\n",
    "# Quality and Condition Interaction: to capture the combine impact of qual and cond\n",
    "#train_data['QualCondIntercation'] = train_data['OverallQual'] * train_data['OverallCond']\n",
    "\n",
    "# Seasonality of Sale\n",
    "# Seasonality of Sale with unique labels\n",
    "train_data['Season'] = pd.cut(\n",
    "    train_data['MoSold'],\n",
    "    bins=[0, 3, 6, 9, 12],\n",
    "    labels=['Winter', 'Spring', 'Summer', 'Fall'],\n",
    "    right=False,                        # right=False means the interval is closed on the left side, open on the right side: the interval [0, 3) means it includes 0 (December) up to but not including 3 (March)\n",
    "    include_lowest=True                 # ensures that the lowest value (0 in this case) is included in the first bin.  \n",
    ")\n",
    "\n",
    "# Garage Feature Interaction: create a single feature that captures the quality and the size of the garage\n",
    "train_data['GarFeatInter'] = train_data['GarageCars'] * train_data['GarageArea'] * (train_data['GarageFinish'].notnull().astype(int))\n",
    "\n",
    "# Total Porch Area combine all porch-related features into one\n",
    "train_data['TotPorchSF'] = train_data['OpenPorchSF'] + train_data['EnclosedPorch'] + train_data['3SsnPorch'] + train_data['ScreenPorch']\n",
    "\n",
    "# Dropping old features that are replaced by new ones\n",
    "train_data = train_data.drop(columns=['OpenPorchSF', 'EnclosedPorch', '3SsnPorch', 'ScreenPorch', \n",
    "                                      'FullBath', 'HalfBath', 'BsmtFullBath', 'BsmtHalfBath', \n",
    "                                      '1stFlrSF', '2ndFlrSF', 'TotalBsmtSF', 'GrLivArea',\n",
    "                                      'GarageCars', 'GarageArea'\n",
    "                                     ])"
   ]
  },
  {
   "cell_type": "code",
   "execution_count": 6,
   "id": "009e3814",
   "metadata": {
    "execution": {
     "iopub.execute_input": "2024-10-24T16:46:26.552697Z",
     "iopub.status.busy": "2024-10-24T16:46:26.551895Z",
     "iopub.status.idle": "2024-10-24T16:46:26.575967Z",
     "shell.execute_reply": "2024-10-24T16:46:26.574887Z"
    },
    "papermill": {
     "duration": 0.032082,
     "end_time": "2024-10-24T16:46:26.578685",
     "exception": false,
     "start_time": "2024-10-24T16:46:26.546603",
     "status": "completed"
    },
    "tags": []
   },
   "outputs": [],
   "source": [
    "# new features engeneering test_data\n",
    "\n",
    "# Total Square Footage to capture the overall livable space in the property\n",
    "test_data['TotalSF'] = test_data['TotalBsmtSF'] + test_data['1stFlrSF'] + test_data['2ndFlrSF'] + test_data['GrLivArea']\n",
    "\n",
    "# Age of the Property helps to capture the effect of older vs.newer properties on sale prices\n",
    "test_data['HouseAge'] = test_data['YrSold'] - test_data['YearBuilt']\n",
    "\n",
    "# Time Since Last Renovation\n",
    "test_data['TimeSinceRemodel'] = test_data['YrSold'] - test_data['YearRemodAdd']\n",
    "\n",
    "# Is Remodeled: binary feature indicates whether a home has undergone any renovations: IsRemodeled = 1 if YearBuilt != YearRemodAdd else 0\n",
    "test_data['IsRemodeled'] = (test_data['YearBuilt'] != test_data['YearRemodAdd']).astype(int)\n",
    "\n",
    "# Total Bathrooms\n",
    "test_data['Total Bathrooms'] = test_data['FullBath'] + (test_data['HalfBath']*0.5) + test_data['BsmtFullBath'] + (test_data['BsmtHalfBath']*0.5)\n",
    "\n",
    "# Has Basement\n",
    "test_data['HasBasement'] = (test_data['TotalBsmtSF'] > 0).astype(int)\n",
    "\n",
    "# Lot Frontage/Area Ratio: to see if the frontage size relative to the lot area has an effect on the house price\n",
    "test_data['LotFrontageAreaRatio'] = test_data['LotFrontage'] / test_data['LotArea']\n",
    "\n",
    "# Quality and Condition Interaction: to capture the combine impact of qual and cond\n",
    "#test_data['QualCondIntercation'] = test_data['OverallQual'] * test_data['OverallCond']\n",
    "\n",
    "# Seasonality of Sale\n",
    "# Seasonality of Sale with unique labels\n",
    "test_data['Season'] = pd.cut(\n",
    "    test_data['MoSold'],\n",
    "    bins=[0, 3, 6, 9, 12],\n",
    "    labels=['Winter', 'Spring', 'Summer', 'Fall'],\n",
    "    right=False,                        # right=False means the interval is closed on the left side, open on the right side: the interval [0, 3) means it includes 0 (December) up to but not including 3 (March)\n",
    "    include_lowest=True                 # ensures that the lowest value (0 in this case) is included in the first bin.  \n",
    ")\n",
    "\n",
    "# Garage Feature Interaction: create a single feature that captures the quality and the size of the garage\n",
    "test_data['GarFeatInter'] = test_data['GarageCars'] * test_data['GarageArea'] * (test_data['GarageFinish'].notnull().astype(int))\n",
    "\n",
    "# Total Porch Area combine all porch-related features into one\n",
    "test_data['TotPorchSF'] = test_data['OpenPorchSF'] + test_data['EnclosedPorch'] + test_data['3SsnPorch'] + test_data['ScreenPorch']\n",
    "\n",
    "# Dropping old features that are replaced by new ones\n",
    "test_data = test_data.drop(columns=['OpenPorchSF', 'EnclosedPorch', '3SsnPorch', 'ScreenPorch', \n",
    "                                      'FullBath', 'HalfBath', 'BsmtFullBath', 'BsmtHalfBath', \n",
    "                                      '1stFlrSF', '2ndFlrSF', 'TotalBsmtSF', 'GrLivArea',\n",
    "                                      'GarageCars', 'GarageArea'\n",
    "                                    ])"
   ]
  },
  {
   "cell_type": "code",
   "execution_count": 7,
   "id": "4f9cb6f5",
   "metadata": {
    "execution": {
     "iopub.execute_input": "2024-10-24T16:46:26.588476Z",
     "iopub.status.busy": "2024-10-24T16:46:26.588048Z",
     "iopub.status.idle": "2024-10-24T16:46:26.636255Z",
     "shell.execute_reply": "2024-10-24T16:46:26.634853Z"
    },
    "papermill": {
     "duration": 0.056531,
     "end_time": "2024-10-24T16:46:26.639140",
     "exception": false,
     "start_time": "2024-10-24T16:46:26.582609",
     "status": "completed"
    },
    "tags": []
   },
   "outputs": [],
   "source": [
    "# Encode categorical columns train_data\n",
    "\n",
    "from sklearn.preprocessing import LabelEncoder\n",
    "\n",
    "# label encoding for ordinal features\n",
    "ordinal_cols = ['ExterQual', 'ExterCond', 'HeatingQC', 'KitchenQual', 'Functional',\n",
    "                'GarageQual', 'GarageCond', 'PavedDrive', 'BsmtQual', 'BsmtCond', \n",
    "                'BsmtExposure', 'BsmtFinType1', 'BsmtFinType2', 'Condition2']\n",
    "\n",
    "label_encoders = {}\n",
    "for col in ordinal_cols:\n",
    "    le = LabelEncoder()\n",
    "    train_data[col] = le.fit_transform(train_data[col])\n",
    "    label_encoders[col] = le\n",
    "\n",
    "# one-hot encoding for nominal features\n",
    "nominal_cols = ['MSZoning', 'LotShape', 'LandContour', 'Utilities', 'Neighborhood',\n",
    "                'Condition1', 'BldgType', 'HouseStyle', 'RoofStyle', 'RoofMatl',\n",
    "                'Exterior1st', 'Exterior2nd', 'MasVnrType', 'Foundation', \n",
    "                'CentralAir', 'GarageType', 'SaleType', 'SaleCondition', \n",
    "                'Season', 'Street', 'LotConfig', 'LandSlope', 'Heating', \n",
    "                'Electrical', 'FireplaceQu', 'GarageFinish']\n",
    "\n",
    "\n",
    "train_data = pd.get_dummies(train_data, columns = nominal_cols, drop_first=True)"
   ]
  },
  {
   "cell_type": "code",
   "execution_count": 8,
   "id": "16390418",
   "metadata": {
    "execution": {
     "iopub.execute_input": "2024-10-24T16:46:26.648445Z",
     "iopub.status.busy": "2024-10-24T16:46:26.648002Z",
     "iopub.status.idle": "2024-10-24T16:46:26.739910Z",
     "shell.execute_reply": "2024-10-24T16:46:26.738796Z"
    },
    "papermill": {
     "duration": 0.099611,
     "end_time": "2024-10-24T16:46:26.742732",
     "exception": false,
     "start_time": "2024-10-24T16:46:26.643121",
     "status": "completed"
    },
    "tags": []
   },
   "outputs": [],
   "source": [
    "# Encode categorical columns test_data\n",
    "\n",
    "from sklearn.preprocessing import LabelEncoder\n",
    "\n",
    "# label encoding for ordinal features\n",
    "ordinal_cols = ['ExterQual', 'ExterCond', 'HeatingQC', 'KitchenQual', 'Functional',\n",
    "                'GarageQual', 'GarageCond', 'PavedDrive', 'BsmtQual', 'BsmtCond', \n",
    "                'BsmtExposure', 'BsmtFinType1', 'BsmtFinType2', 'Condition2']\n",
    "\n",
    "label_encoders = {}\n",
    "for col in ordinal_cols:\n",
    "    le = LabelEncoder()\n",
    "    test_data[col] = le.fit_transform(test_data[col])\n",
    "    label_encoders[col] = le\n",
    "\n",
    "# one-hot encoding for nominal features\n",
    "nominal_cols = ['MSZoning', 'LotShape', 'LandContour', 'Utilities', 'Neighborhood',\n",
    "                'Condition1', 'BldgType', 'HouseStyle', 'RoofStyle', 'RoofMatl',\n",
    "                'Exterior1st', 'Exterior2nd', 'MasVnrType', 'Foundation', \n",
    "                'CentralAir', 'GarageType', 'SaleType', 'SaleCondition', \n",
    "                'Season', 'Street', 'LotConfig', 'LandSlope', 'Heating', \n",
    "                'Electrical', 'FireplaceQu', 'GarageFinish']\n",
    "\n",
    "\n",
    "test_data = pd.get_dummies(test_data, columns = nominal_cols, drop_first=True)\n",
    "\n",
    "# filling NA values of test data\n",
    "test_data.fillna(test_data.mean(), inplace=True)"
   ]
  },
  {
   "cell_type": "code",
   "execution_count": 9,
   "id": "96d20a3d",
   "metadata": {
    "execution": {
     "iopub.execute_input": "2024-10-24T16:46:26.752335Z",
     "iopub.status.busy": "2024-10-24T16:46:26.751805Z",
     "iopub.status.idle": "2024-10-24T16:46:30.566025Z",
     "shell.execute_reply": "2024-10-24T16:46:30.564730Z"
    },
    "papermill": {
     "duration": 3.822397,
     "end_time": "2024-10-24T16:46:30.568884",
     "exception": false,
     "start_time": "2024-10-24T16:46:26.746487",
     "status": "completed"
    },
    "tags": []
   },
   "outputs": [],
   "source": [
    "# Align train_data and test_data to have the same columns\n",
    "train_data, test_data = train_data.align(test_data, join='left', axis=1, fill_value=0)\n",
    "\n",
    "# Split data into X (features) and y (target)\n",
    "X_train = train_data.drop(\"SalePrice\", axis=1)\n",
    "y_train = train_data[\"SalePrice\"]\n",
    "X_test = test_data.drop(\"SalePrice\", axis=1)  # Test set doesn't have 'SalePrice', but it must have same features\n",
    "\n",
    "from sklearn.ensemble import RandomForestRegressor\n",
    "\n",
    "# Model Training using the best hyperparameters\n",
    "model = RandomForestRegressor(\n",
    "    n_estimators=300,\n",
    "    max_depth=30,\n",
    "    min_samples_split=2,\n",
    "    min_samples_leaf=3,\n",
    "    max_features=0.3,\n",
    "    bootstrap=False\n",
    ")\n",
    "\n",
    "model.fit(X_train, y_train)\n",
    "\n",
    "# Predict for test set\n",
    "test_preds = model.predict(X_test)\n",
    "\n",
    "# Apply reverse log transformation to predicted prices for submission\n",
    "final_preds = np.expm1(test_preds)  # Reverse log1p to get actual prices\n"
   ]
  },
  {
   "cell_type": "code",
   "execution_count": 10,
   "id": "b6d631c5",
   "metadata": {
    "execution": {
     "iopub.execute_input": "2024-10-24T16:46:30.578059Z",
     "iopub.status.busy": "2024-10-24T16:46:30.577615Z",
     "iopub.status.idle": "2024-10-24T16:46:30.591353Z",
     "shell.execute_reply": "2024-10-24T16:46:30.590008Z"
    },
    "papermill": {
     "duration": 0.021135,
     "end_time": "2024-10-24T16:46:30.593820",
     "exception": false,
     "start_time": "2024-10-24T16:46:30.572685",
     "status": "completed"
    },
    "tags": []
   },
   "outputs": [
    {
     "name": "stdout",
     "output_type": "stream",
     "text": [
      "Submission file saved at /kaggle/working/submission.csv\n"
     ]
    }
   ],
   "source": [
    "# Create Submission File\n",
    "submission = pd.DataFrame({\n",
    "    \"Id\": test_data[\"Id\"],\n",
    "    \"SalePrice\": final_preds\n",
    "})\n",
    "\n",
    "# Save to CSV (ensuring a clear path)\n",
    "submission_file_path = '/kaggle/working/submission.csv'  # Update with correct path\n",
    "submission.to_csv(submission_file_path, index=False)\n",
    "\n",
    "print(f\"Submission file saved at {submission_file_path}\")"
   ]
  }
 ],
 "metadata": {
  "kaggle": {
   "accelerator": "none",
   "dataSources": [
    {
     "databundleVersionId": 868283,
     "sourceId": 5407,
     "sourceType": "competition"
    }
   ],
   "dockerImageVersionId": 30786,
   "isGpuEnabled": false,
   "isInternetEnabled": true,
   "language": "python",
   "sourceType": "notebook"
  },
  "kernelspec": {
   "display_name": "Python 3",
   "language": "python",
   "name": "python3"
  },
  "language_info": {
   "codemirror_mode": {
    "name": "ipython",
    "version": 3
   },
   "file_extension": ".py",
   "mimetype": "text/x-python",
   "name": "python",
   "nbconvert_exporter": "python",
   "pygments_lexer": "ipython3",
   "version": "3.10.14"
  },
  "papermill": {
   "default_parameters": {},
   "duration": 11.138801,
   "end_time": "2024-10-24T16:46:31.219053",
   "environment_variables": {},
   "exception": null,
   "input_path": "__notebook__.ipynb",
   "output_path": "__notebook__.ipynb",
   "parameters": {},
   "start_time": "2024-10-24T16:46:20.080252",
   "version": "2.6.0"
  }
 },
 "nbformat": 4,
 "nbformat_minor": 5
}
